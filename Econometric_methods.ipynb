{
 "cells": [
  {
   "cell_type": "markdown",
   "metadata": {},
   "source": [
    "# Econometric models\n",
    "This is a collection of classic econometric models that were used for the kaggle competition.\n",
    "For more info, read README and our blog post."
   ]
  },
  {
   "cell_type": "code",
   "execution_count": 1,
   "metadata": {},
   "outputs": [],
   "source": [
    "%matplotlib inline\n",
    "import os, os.path\n",
    "import itertools\n",
    "import pickle\n",
    "import time\n",
    "import numpy as np\n",
    "import pandas as pd\n",
    "from pyramid.arima import auto_arima\n",
    "import matplotlib.pyplot as plt\n",
    "import seaborn as sns\n",
    "import statsmodels.formula.api as smf\n",
    "import statsmodels.tsa.api as smt\n",
    "import statsmodels.api as sm\n",
    "from scipy.stats import describe\n",
    "import warnings"
   ]
  },
  {
   "cell_type": "code",
   "execution_count": 2,
   "metadata": {},
   "outputs": [],
   "source": [
    "pd.options.display.max_columns = 12\n",
    "pd.options.display.max_rows = 24\n",
    "\n",
    "# disable warnings in Anaconda\n",
    "warnings.simplefilter('ignore')\n",
    "\n",
    "# plots inisde jupyter notebook\n",
    "%matplotlib inline\n",
    "\n",
    "sns.set(style='darkgrid', palette='muted')\n",
    "color_scheme = {\n",
    "    'red': '#F1637A',\n",
    "    'green': '#6ABB3E',\n",
    "    'blue': '#3D8DEA',\n",
    "    'black': '#000000'\n",
    "}"
   ]
  },
  {
   "cell_type": "markdown",
   "metadata": {},
   "source": [
    "## Seasonality"
   ]
  },
  {
   "cell_type": "code",
   "execution_count": 3,
   "metadata": {},
   "outputs": [],
   "source": [
    "additive = {\"op\": lambda a,b: a+b, \"inv\": lambda a,b: a-b}\n",
    "multiplicative = {\"op\": lambda a,b: a*b, \"inv\": lambda a,b: a/b}"
   ]
  },
  {
   "cell_type": "markdown",
   "metadata": {},
   "source": [
    "Choose seasonality model from above:"
   ]
  },
  {
   "cell_type": "code",
   "execution_count": 4,
   "metadata": {},
   "outputs": [],
   "source": [
    "seasonality_model = additive\n",
    "#seasonality_model = multiplicative"
   ]
  },
  {
   "cell_type": "code",
   "execution_count": 5,
   "metadata": {},
   "outputs": [],
   "source": [
    "categorize_by_week_of_year = lambda df: df.index.dayofyear // 7\n",
    "categorize_by_day_of_week = lambda df: df.index.dayofweek"
   ]
  },
  {
   "cell_type": "code",
   "execution_count": 6,
   "metadata": {},
   "outputs": [],
   "source": [
    "def compute_seasonality(series, categorization):\n",
    "    \"\"\"\n",
    "    Computes seasonal component parameters based on provided series.\n",
    "    \n",
    "    :type series: pd.Series\n",
    "    :param categorization: Function used to split values into various periods of the season.\n",
    "    :type categorization: pd.DataFrame -> some categorical type, eg. int\n",
    "    \"\"\"\n",
    "    df = pd.DataFrame()\n",
    "    df[\"values\"] = series\n",
    "    df.index = series.index\n",
    "    df[\"cat\"] = categorization(df)\n",
    "    return df.groupby(by=\"cat\")[\"values\"].mean()"
   ]
  },
  {
   "cell_type": "code",
   "execution_count": 7,
   "metadata": {},
   "outputs": [],
   "source": [
    "def alter_series_by_season(series, categorization, seasonality, op):\n",
    "    df = pd.DataFrame()\n",
    "    df[\"values\"] = series\n",
    "    df[\"values\"] = series\n",
    "    df[\"cat\"] = categorization(df)\n",
    "    return op(df[\"values\"], df[\"cat\"].map(seasonality))"
   ]
  },
  {
   "cell_type": "code",
   "execution_count": 8,
   "metadata": {},
   "outputs": [],
   "source": [
    "def add_seasonal_component(series, categorization, seasonality):\n",
    "    \"\"\"\n",
    "    Add previously computed seasonal component back into a deseasonalized series.\n",
    "    \n",
    "    :type series: pd.Series\n",
    "    :param categorization: Function used to split values into various periods of the season.\n",
    "    :type categorization: pd.DataFrame -> some categorical type, eg. int\n",
    "    :param seasonality: value returned from compute_seasonality\n",
    "    :returns: Series with added seasonal component.\n",
    "    :rtype: pd.Series\n",
    "    \"\"\"\n",
    "    return alter_series_by_season(series, categorization, seasonality, seasonality_model[\"op\"])\n"
   ]
  },
  {
   "cell_type": "code",
   "execution_count": 9,
   "metadata": {},
   "outputs": [],
   "source": [
    "def remove_seasonal_component(series, categorization, seasonality):\n",
    "    \"\"\"\n",
    "    Try removing a previously computed seasonal component.\n",
    "    \n",
    "    :type series: pd.Series\n",
    "    :param categorization: Function used to split values into various periods of the season.\n",
    "    :type categorization: pd.DataFrame -> some categorical type, eg. int\n",
    "    :param seasonality: value returned from compute_seasonality\n",
    "    :returns: Deseasonalized series.\n",
    "    :rtype: pd.Series\n",
    "    \"\"\"\n",
    "    return alter_series_by_season(series, categorization, seasonality, seasonality_model[\"inv\"])"
   ]
  },
  {
   "cell_type": "markdown",
   "metadata": {},
   "source": [
    "## Holt-Winters and SARIMA Models Utils"
   ]
  },
  {
   "cell_type": "code",
   "execution_count": 10,
   "metadata": {},
   "outputs": [],
   "source": [
    "def train_and_forecast(data, categorization, trainer, forecaster, deseasonize, steps_to_forecast=90):\n",
    "    \"\"\"\n",
    "    Split input data, deseasonalizes train data,\n",
    "    train using trainer (data -> model),\n",
    "    forecast using forecaster\n",
    "    \n",
    "    predicts values and applies seasonalization and returns predicted vs actual values\n",
    "    \n",
    "    :param data: dataset with the training data\n",
    "    :param categorization: Function used to split values into various periods of the season.\n",
    "    :type categorization: pd.DataFrame -> some categorical type, eg. int\n",
    "    :param trainer: Function used to train the model\n",
    "    :type trainer: pd.DataFrame -> model\n",
    "    :param forecaster: (model, steps) -> prediction\n",
    "    :param steps_to_forecast:  number of steps to forecast\n",
    "    :returns:  a dataframe with:\n",
    "                                date\n",
    "                                sales - true values\n",
    "                                forecast - forecasted values\n",
    "    \"\"\"\n",
    "    \n",
    "    #prepare trainig and validation datasets\n",
    "    df_train = data.iloc[:-365].copy()\n",
    "    df_validation = data.iloc[-365:].copy()\n",
    "    df_validation.index = pd.DatetimeIndex(df_validation[\"date\"])\n",
    "    df_train.index = pd.DatetimeIndex(df_train[\"date\"])\n",
    "    \n",
    "    if deseasonize:\n",
    "        seas = compute_seasonality(df_train[\"sales\"], categorization)\n",
    "        series = remove_seasonal_component(df_train[\"sales\"], categorization, seas)\n",
    "        df_train[\"sales\"] = series\n",
    "    \n",
    "    df_train = df_train.reset_index(drop=True)\n",
    "\n",
    "    # train\n",
    "    model = trainer(df_train)\n",
    "    \n",
    "    # forecast\n",
    "    forecast = forecaster(model, steps_to_forecast)\n",
    "    \n",
    "    # Create the pandas series from the forecast\n",
    "    forecast = pd.Series(forecast)\n",
    "    forecast.name = \"sales\"\n",
    "    forecast.index = pd.DatetimeIndex(start='2017-01-01', \n",
    "                                      freq=\"D\",\n",
    "                                      periods = forecast.size)\n",
    "    \n",
    "    if deseasonize:\n",
    "        forecast = add_seasonal_component(forecast, categorization, seas)\n",
    "    \n",
    "    final_forecast = pd.DataFrame()\n",
    "    final_forecast['real_values'] = df_validation[\"sales\"][:steps_to_forecast]\n",
    "    final_forecast['forecast'] = forecast\n",
    "    \n",
    "    return final_forecast"
   ]
  },
  {
   "cell_type": "code",
   "execution_count": 11,
   "metadata": {},
   "outputs": [],
   "source": [
    "def extract_single_df(data, store, item):\n",
    "    \"\"\"\n",
    "    Extract single store/item time series from provided \n",
    "    dataset\n",
    "    \n",
    "    :param data: Pandas dataframe with multiple timeseries\n",
    "    :param store: number of the store\n",
    "    :param item: number of the item\n",
    "    :returns: Pandas dataframe with single store/item time series\n",
    "    \"\"\"\n",
    "    \n",
    "    df_single = data.loc[(data.store == store) & (data.item == item),[\"date\", \"sales\"]].copy()\n",
    "    df_single.reset_index(drop=True, inplace=True)\n",
    "    df_single.date = pd.to_datetime(df_single.date)\n",
    "    return df_single"
   ]
  },
  {
   "cell_type": "code",
   "execution_count": 12,
   "metadata": {},
   "outputs": [],
   "source": [
    "def compute_all_models(data, ids, categorization, trainer, forecaster, deseasonize, steps_to_forecast=90):\n",
    "    \"\"\"\n",
    "    Train the models and use them to make forecast for all of the individual\n",
    "    time series separately\n",
    "    \n",
    "    :params data: dataframe with multiple time series\n",
    "    :params ids: list of tuples with stores and items\n",
    "    :param categorization: Function used to split values into various periods of the season.\n",
    "    :type categorization: pd.DataFrame -> some categorical type, eg. int\n",
    "    :param trainer: Function used to train the model\n",
    "    :type trainer: pd.DataFrame -> model\n",
    "    :param forecaster: (model, steps) -> prediction\n",
    "    :param steps_to_forecast: number of steps to forecast\n",
    "    \"\"\"\n",
    "    \n",
    "    all_models_forecast = {}\n",
    "    all_models_smape = np.array([])\n",
    "    number_of_time_series = 0\n",
    "    for store, item in ids:\n",
    "        single_time_series = extract_single_df(data, store, item)\n",
    "        predictions = train_and_forecast(single_time_series, categorization,\n",
    "                                         trainer, forecaster, deseasonize, steps_to_forecast)\n",
    "        score = smape(predictions['real_values'], predictions['forecast'])\n",
    "        results = {\n",
    "            \"item\": item,\n",
    "            \"store\": store,\n",
    "            \"predictions\": predictions,\n",
    "            \"smape\": score\n",
    "        }\n",
    "        print(score)\n",
    "        all_models_smape = np.append(all_models_smape, score)\n",
    "        all_models_forecast[str(store) + str(item)] = results\n",
    "        number_of_time_series += 1\n",
    "    forecast_smape = np.sum(all_models_smape) / number_of_time_series\n",
    "        \n",
    "    return results, forecast_smape"
   ]
  },
  {
   "cell_type": "code",
   "execution_count": 13,
   "metadata": {},
   "outputs": [],
   "source": [
    "def smape(y, y_pred):\n",
    "    \"\"\"\n",
    "    compute the SMAPE metrics\n",
    "    \n",
    "    :param y: array with true values\n",
    "    :param y: array with forcasted values\n",
    "    :returns: average smape metrics for the given period\n",
    "    \"\"\"\n",
    "    \n",
    "    div = (abs(y_pred) + abs(y)) / 2\n",
    "    errors = abs(y_pred - y) / div\n",
    "        \n",
    "    smape = np.sum(errors) / len(y)\n",
    "    return smape"
   ]
  },
  {
   "cell_type": "code",
   "execution_count": 14,
   "metadata": {},
   "outputs": [],
   "source": [
    "def compute_avg_smape (df_y, df_y_pred):\n",
    "    \"\"\"\n",
    "    Compute average SMAPE of multiple forecast\n",
    "    \n",
    "    :param df_y: data series with real values\n",
    "    :param df_y_pred: dataframe with multiple forecasts\n",
    "    :returns: average SMAPE of all forecasts\n",
    "    \"\"\"\n",
    "    \n",
    "    avg_smape = 0\n",
    "    for i in range(df_y_pred.shape[1]):\n",
    "        err = smape(y=df_y.iloc[:,i],\n",
    "                              y_pred=df_y_pred.iloc[:,i])\n",
    "        avg_smape += err\n",
    "\n",
    "    avg_smape /= df_y_pred.shape[1]\n",
    "    return avg_smape\n"
   ]
  },
  {
   "cell_type": "markdown",
   "metadata": {},
   "source": [
    "### Data import & preparation \n",
    "In order for this to work, download all datasets from kaggle competition:  \n",
    "https://www.kaggle.com/c/demand-forecasting-kernels-only  \n",
    "and place them in `../data/` folder.  \n",
    "We could not append datasets to our repo because of copyrights."
   ]
  },
  {
   "cell_type": "code",
   "execution_count": 15,
   "metadata": {},
   "outputs": [],
   "source": [
    "#Import data\n",
    "dir_name = \"../data/\" #insert your own path here\n",
    "file_name = \"train.csv\"\n",
    "\n",
    "filepath_train = os.path.abspath(os.path.join(os.getcwd(), dir_name, file_name ))\n",
    "\n",
    "store_item_data = pd.read_csv(filepath_train)\n",
    "store_item_data.index = pd.DatetimeIndex(store_item_data['date'])"
   ]
  },
  {
   "cell_type": "code",
   "execution_count": 16,
   "metadata": {},
   "outputs": [],
   "source": [
    "number_of_stores = 10\n",
    "number_of_items = 50"
   ]
  },
  {
   "cell_type": "code",
   "execution_count": 17,
   "metadata": {},
   "outputs": [],
   "source": [
    "ids = list(itertools.product(range(1,number_of_stores+1), range(1,number_of_items+1)))"
   ]
  },
  {
   "cell_type": "markdown",
   "metadata": {},
   "source": [
    "## Holt-Winters Method"
   ]
  },
  {
   "cell_type": "code",
   "execution_count": null,
   "metadata": {},
   "outputs": [],
   "source": [
    "# create a trainer which can be use to train all of the models\n",
    "hw_trainer = lambda df: smt.ExponentialSmoothing(endog=df.loc[-365:,'sales'], damped=False,\n",
    "                         trend='add',seasonal='add', seasonal_periods=7).fit()"
   ]
  },
  {
   "cell_type": "code",
   "execution_count": null,
   "metadata": {},
   "outputs": [],
   "source": [
    "# create a forecaster function to get the forcasts from all of the models\n",
    "hw_forecaster = lambda model, steps: model.predict(steps)"
   ]
  },
  {
   "cell_type": "code",
   "execution_count": null,
   "metadata": {
    "scrolled": true
   },
   "outputs": [],
   "source": [
    "hw_results, hw_smape = compute_all_models(store_item_data, ids, categorize_by_week_of_year,\n",
    "                                         hw_trainer, hw_forecaster, False)\n",
    "print(\"Holt Winters method SMAPE on the validation set: \", hw_smape)"
   ]
  },
  {
   "cell_type": "markdown",
   "metadata": {},
   "source": [
    "## SARIMA"
   ]
  },
  {
   "cell_type": "code",
   "execution_count": null,
   "metadata": {},
   "outputs": [],
   "source": [
    "# create a trainer which can be use to grid search and train all of the models\n",
    "arima_trainer = lambda df: auto_arima(df.loc[-365:,'sales'], m=7, n_jobs=1, max_p=7, max_q=7, max_P=7,\n",
    "                          max_Q=7, max_order=12, trend='c', max_iter=100,\n",
    "                          trace=False, error_action='ignore', suppress_warnings=True,\n",
    "                          stepwise=True, random=False, n_fits=40, random_state=44443)\n"
   ]
  },
  {
   "cell_type": "code",
   "execution_count": null,
   "metadata": {},
   "outputs": [],
   "source": [
    "# create a forecaster function to get the forcasts from all of the models\n",
    "arima_forecaster = lambda model, steps: model.predict(steps)"
   ]
  },
  {
   "cell_type": "code",
   "execution_count": null,
   "metadata": {
    "scrolled": true
   },
   "outputs": [],
   "source": [
    "sarima_results, sarima_smape = compute_all_models(store_item_data, ids, categorize_by_week_of_year,\n",
    "                                         arima_trainer, arima_forecaster, True)\n",
    "print(\"SARIMA model SMAPE on the validation set: \", sarima_smape)"
   ]
  },
  {
   "cell_type": "markdown",
   "metadata": {},
   "source": [
    "## VAR"
   ]
  },
  {
   "cell_type": "code",
   "execution_count": 18,
   "metadata": {},
   "outputs": [],
   "source": [
    "def var_train_and_forecast(data_train, data_validation, categorization, max_lags=16,ic='aic',\n",
    "                            plots=False):\n",
    "    \"\"\"\n",
    "    Apply deseasonalization and differencing to the time series and\n",
    "    create VAR model with optimal number of lags, make forecast and compute smape\n",
    "    \n",
    "    :param data_train: training multivariete time series\n",
    "    :param data_validation: validation  multivariete time series\n",
    "    :param max_lags: maximum number of lags in VAR model\n",
    "    :type max_lags: int\n",
    "    :param ic: information criterion used to choose best VAR model\n",
    "    :param plots: if True  forecast vs real_values plot will be printed\n",
    "    \n",
    "    returns: smape metric\n",
    "    \"\"\"\n",
    "    \n",
    "    #DESEASONALIZATION\n",
    "    data_train_deseasonalized = pd.DataFrame()\n",
    "    seasonalized_all = pd.DataFrame()\n",
    "\n",
    "    for col in  data_train.columns.values:\n",
    "        seasonalized_all[col] = compute_seasonality(data_train[col], categorization)\n",
    "        series = remove_seasonal_component(data_train[col], categorization, seasonalized_all[col])\n",
    "        data_train_deseasonalized[col] = series\n",
    "    data_train_deseasonalized.index = pd.DatetimeIndex(start=\"01-01-2013\",\n",
    "                                                       periods=1461, freq='D')\n",
    "    \n",
    "    #TIME SERIES DIFFERENCING\n",
    "    data_train_deseasonalized_differenced = data_train_deseasonalized.diff().iloc[1:]\n",
    "    data_train_deseasonalized_differenced = data_train_deseasonalized_differenced.asfreq('D')\n",
    "    \n",
    "    #MODELING\n",
    "    var_model = smt.VAR(data_train_deseasonalized_differenced,\n",
    "                        dates=data_train_deseasonalized_differenced.index)\n",
    "    \n",
    "    var_model_results = var_model.fit(maxlags=max_lags, ic=ic, verbose=True)\n",
    "    lags = var_model_results.k_ar\n",
    "    \n",
    "    #FORECASTING\n",
    "    forecast = pd.DataFrame(var_model_results.forecast(\n",
    "                            data_train_deseasonalized_differenced.values[-lags:], 90))\n",
    "    forecast.columns +=1\n",
    "    \n",
    "    #FORCAST REVERSE DIFFERENCING\n",
    "    var_forecast_diff = data_train_deseasonalized.tail(1)\n",
    "\n",
    "    var_forecast_diff = var_forecast_diff.append(forecast)\n",
    "    var_forecast = var_forecast_diff.cumsum().iloc[1:]\n",
    "    var_forecast.index = pd.DatetimeIndex(start='01-01-2017', periods=90, freq='D')\n",
    "    \n",
    "\n",
    "    \n",
    "    # FORCAST - APPLY SEASONALITY\n",
    "    corrected_forecast = pd.DataFrame()\n",
    "    for col in var_forecast.columns.values:\n",
    "        tmp_forecast = pd.DataFrame()\n",
    "        tmp_forecast = add_seasonal_component(var_forecast[col].copy(),\n",
    "                                        categorize_by_week_of_year,\n",
    "                                        seasonalized_all[col])\n",
    "        corrected_forecast[col] = tmp_forecast\n",
    "    corrected_forecast.index = pd.DatetimeIndex(start='01-01-2017', periods=90,freq='D')\n",
    "    \n",
    "    # forecast vs real_values plot\n",
    "    if plots:\n",
    "        plt.figure()\n",
    "        corrected_forecast.iloc[:,0].plot(figsize=(12,16), color='b')\n",
    "        data_validation.iloc[:90,0].plot(color='r')\n",
    "        plt.show()\n",
    "    smape = compute_avg_smape(df_y=data_validation.iloc[:90], df_y_pred=corrected_forecast)\n",
    "    print(smape)\n",
    "    return smape\n"
   ]
  },
  {
   "cell_type": "code",
   "execution_count": 19,
   "metadata": {},
   "outputs": [],
   "source": [
    "def evaluate_multiple_var (data, num_time_series):\n",
    "    \"\"\"\n",
    "    Compute and evaluate VAR model for every batch of multivariete time series\n",
    "    :param data: multiindexed columns dataframe with multivariete time series\n",
    "    :param number_of_series: number of mutivariete time series\n",
    "    :returns: average SMAPE metric\n",
    "    \"\"\"\n",
    "    smape_all = []\n",
    "    for i in range(1,num_time_series+1):\n",
    "        single_time_series = data.loc[:,i]\n",
    "    \n",
    "        single_time_series_train = single_time_series.iloc[:-365]\n",
    "        single_time_series_validation = single_time_series.iloc[-365:]\n",
    "    \n",
    "        smape = var_train_and_forecast(single_time_series_train, single_time_series_validation, categorize_by_week_of_year,\n",
    "                                    plots=False)\n",
    "        smape_all.append(smape)\n",
    "        \n",
    "    return smape_all"
   ]
  },
  {
   "cell_type": "markdown",
   "metadata": {},
   "source": [
    "#### Create a model for each store"
   ]
  },
  {
   "cell_type": "code",
   "execution_count": 20,
   "metadata": {},
   "outputs": [
    {
     "data": {
      "text/html": [
       "<div>\n",
       "<style scoped>\n",
       "    .dataframe tbody tr th:only-of-type {\n",
       "        vertical-align: middle;\n",
       "    }\n",
       "\n",
       "    .dataframe tbody tr th {\n",
       "        vertical-align: top;\n",
       "    }\n",
       "\n",
       "    .dataframe thead tr th {\n",
       "        text-align: left;\n",
       "    }\n",
       "\n",
       "    .dataframe thead tr:last-of-type th {\n",
       "        text-align: right;\n",
       "    }\n",
       "</style>\n",
       "<table border=\"1\" class=\"dataframe\">\n",
       "  <thead>\n",
       "    <tr>\n",
       "      <th>store</th>\n",
       "      <th colspan=\"6\" halign=\"left\">1</th>\n",
       "      <th>...</th>\n",
       "      <th colspan=\"6\" halign=\"left\">10</th>\n",
       "    </tr>\n",
       "    <tr>\n",
       "      <th>item</th>\n",
       "      <th>1</th>\n",
       "      <th>2</th>\n",
       "      <th>3</th>\n",
       "      <th>4</th>\n",
       "      <th>5</th>\n",
       "      <th>6</th>\n",
       "      <th>...</th>\n",
       "      <th>45</th>\n",
       "      <th>46</th>\n",
       "      <th>47</th>\n",
       "      <th>48</th>\n",
       "      <th>49</th>\n",
       "      <th>50</th>\n",
       "    </tr>\n",
       "    <tr>\n",
       "      <th>date</th>\n",
       "      <th></th>\n",
       "      <th></th>\n",
       "      <th></th>\n",
       "      <th></th>\n",
       "      <th></th>\n",
       "      <th></th>\n",
       "      <th></th>\n",
       "      <th></th>\n",
       "      <th></th>\n",
       "      <th></th>\n",
       "      <th></th>\n",
       "      <th></th>\n",
       "      <th></th>\n",
       "    </tr>\n",
       "  </thead>\n",
       "  <tbody>\n",
       "    <tr>\n",
       "      <th>2013-01-01</th>\n",
       "      <td>13</td>\n",
       "      <td>33</td>\n",
       "      <td>15</td>\n",
       "      <td>10</td>\n",
       "      <td>11</td>\n",
       "      <td>31</td>\n",
       "      <td>...</td>\n",
       "      <td>45</td>\n",
       "      <td>37</td>\n",
       "      <td>11</td>\n",
       "      <td>25</td>\n",
       "      <td>17</td>\n",
       "      <td>33</td>\n",
       "    </tr>\n",
       "    <tr>\n",
       "      <th>2013-01-02</th>\n",
       "      <td>11</td>\n",
       "      <td>43</td>\n",
       "      <td>30</td>\n",
       "      <td>11</td>\n",
       "      <td>6</td>\n",
       "      <td>36</td>\n",
       "      <td>...</td>\n",
       "      <td>45</td>\n",
       "      <td>33</td>\n",
       "      <td>13</td>\n",
       "      <td>24</td>\n",
       "      <td>13</td>\n",
       "      <td>37</td>\n",
       "    </tr>\n",
       "    <tr>\n",
       "      <th>2013-01-03</th>\n",
       "      <td>14</td>\n",
       "      <td>23</td>\n",
       "      <td>14</td>\n",
       "      <td>8</td>\n",
       "      <td>8</td>\n",
       "      <td>18</td>\n",
       "      <td>...</td>\n",
       "      <td>56</td>\n",
       "      <td>28</td>\n",
       "      <td>16</td>\n",
       "      <td>29</td>\n",
       "      <td>19</td>\n",
       "      <td>46</td>\n",
       "    </tr>\n",
       "    <tr>\n",
       "      <th>2013-01-04</th>\n",
       "      <td>13</td>\n",
       "      <td>18</td>\n",
       "      <td>10</td>\n",
       "      <td>19</td>\n",
       "      <td>9</td>\n",
       "      <td>19</td>\n",
       "      <td>...</td>\n",
       "      <td>50</td>\n",
       "      <td>44</td>\n",
       "      <td>11</td>\n",
       "      <td>39</td>\n",
       "      <td>23</td>\n",
       "      <td>51</td>\n",
       "    </tr>\n",
       "    <tr>\n",
       "      <th>2013-01-05</th>\n",
       "      <td>10</td>\n",
       "      <td>34</td>\n",
       "      <td>23</td>\n",
       "      <td>12</td>\n",
       "      <td>8</td>\n",
       "      <td>31</td>\n",
       "      <td>...</td>\n",
       "      <td>62</td>\n",
       "      <td>45</td>\n",
       "      <td>16</td>\n",
       "      <td>34</td>\n",
       "      <td>22</td>\n",
       "      <td>41</td>\n",
       "    </tr>\n",
       "  </tbody>\n",
       "</table>\n",
       "<p>5 rows × 500 columns</p>\n",
       "</div>"
      ],
      "text/plain": [
       "store       1                      ...  10                    \n",
       "item        1   2   3   4   5   6  ...  45  46  47  48  49  50\n",
       "date                               ...                        \n",
       "2013-01-01  13  33  15  10  11  31 ...  45  37  11  25  17  33\n",
       "2013-01-02  11  43  30  11   6  36 ...  45  33  13  24  13  37\n",
       "2013-01-03  14  23  14   8   8  18 ...  56  28  16  29  19  46\n",
       "2013-01-04  13  18  10  19   9  19 ...  50  44  11  39  23  51\n",
       "2013-01-05  10  34  23  12   8  31 ...  62  45  16  34  22  41\n",
       "\n",
       "[5 rows x 500 columns]"
      ]
     },
     "execution_count": 20,
     "metadata": {},
     "output_type": "execute_result"
    }
   ],
   "source": [
    "stores_time_series = pd.pivot_table(\n",
    "    columns=['store','item'], values='sales',\n",
    "    index=store_item_data.index, data=store_item_data).asfreq('D')\n",
    "stores_time_series.head()"
   ]
  },
  {
   "cell_type": "code",
   "execution_count": 21,
   "metadata": {
    "scrolled": true
   },
   "outputs": [
    {
     "name": "stdout",
     "output_type": "stream",
     "text": [
      "<statsmodels.tsa.vector_ar.var_model.LagOrderResults object. Selected orders are: AIC -> 16, BIC -> 1, FPE -> 6, HQIC -> 2>\n",
      "Using 16 based on aic criterion\n",
      "0.1614194423273425\n",
      "<statsmodels.tsa.vector_ar.var_model.LagOrderResults object. Selected orders are: AIC -> 16, BIC -> 1, FPE -> 6, HQIC -> 2>\n",
      "Using 16 based on aic criterion\n",
      "0.13758328818926077\n",
      "<statsmodels.tsa.vector_ar.var_model.LagOrderResults object. Selected orders are: AIC -> 16, BIC -> 1, FPE -> 6, HQIC -> 2>\n",
      "Using 16 based on aic criterion\n",
      "0.1526445758664326\n",
      "<statsmodels.tsa.vector_ar.var_model.LagOrderResults object. Selected orders are: AIC -> 16, BIC -> 1, FPE -> 6, HQIC -> 2>\n",
      "Using 16 based on aic criterion\n",
      "0.15339676809920877\n",
      "<statsmodels.tsa.vector_ar.var_model.LagOrderResults object. Selected orders are: AIC -> 16, BIC -> 1, FPE -> 6, HQIC -> 2>\n",
      "Using 16 based on aic criterion\n",
      "0.17406155815250476\n",
      "<statsmodels.tsa.vector_ar.var_model.LagOrderResults object. Selected orders are: AIC -> 16, BIC -> 1, FPE -> 6, HQIC -> 2>\n",
      "Using 16 based on aic criterion\n",
      "0.17554093888197206\n",
      "<statsmodels.tsa.vector_ar.var_model.LagOrderResults object. Selected orders are: AIC -> 16, BIC -> 1, FPE -> 6, HQIC -> 2>\n",
      "Using 16 based on aic criterion\n",
      "0.18497158371207476\n",
      "<statsmodels.tsa.vector_ar.var_model.LagOrderResults object. Selected orders are: AIC -> 16, BIC -> 1, FPE -> 6, HQIC -> 2>\n",
      "Using 16 based on aic criterion\n",
      "0.1408921398129204\n",
      "<statsmodels.tsa.vector_ar.var_model.LagOrderResults object. Selected orders are: AIC -> 16, BIC -> 1, FPE -> 6, HQIC -> 2>\n",
      "Using 16 based on aic criterion\n",
      "0.15685467489594204\n",
      "<statsmodels.tsa.vector_ar.var_model.LagOrderResults object. Selected orders are: AIC -> 16, BIC -> 1, FPE -> 6, HQIC -> 2>\n",
      "Using 16 based on aic criterion\n",
      "0.15031806865439024\n"
     ]
    }
   ],
   "source": [
    "all_stores_smape = evaluate_multiple_var(stores_time_series, number_of_stores)  "
   ]
  },
  {
   "cell_type": "code",
   "execution_count": 22,
   "metadata": {
    "scrolled": true
   },
   "outputs": [
    {
     "data": {
      "image/png": "[encoded data removed]",
      "text/plain": [
       "<Figure size 432x288 with 1 Axes>"
      ]
     },
     "metadata": {},
     "output_type": "display_data"
    }
   ],
   "source": [
    "sns.distplot(all_stores_smape)\n",
    "plt.show()"
   ]
  },
  {
   "cell_type": "code",
   "execution_count": 23,
   "metadata": {},
   "outputs": [
    {
     "data": {
      "text/plain": [
       "DescribeResult(nobs=10, minmax=(0.13758328818926077, 0.18497158371207476), mean=0.15876830385920487, variance=0.0002354032604925673, skewness=0.3271973487275648, kurtosis=-0.9587751430852118)"
      ]
     },
     "execution_count": 23,
     "metadata": {},
     "output_type": "execute_result"
    }
   ],
   "source": [
    "describe(all_stores_smape)"
   ]
  },
  {
   "cell_type": "markdown",
   "metadata": {},
   "source": [
    "#### Create a model for each item"
   ]
  },
  {
   "cell_type": "code",
   "execution_count": 24,
   "metadata": {},
   "outputs": [
    {
     "data": {
      "text/html": [
       "<div>\n",
       "<style scoped>\n",
       "    .dataframe tbody tr th:only-of-type {\n",
       "        vertical-align: middle;\n",
       "    }\n",
       "\n",
       "    .dataframe tbody tr th {\n",
       "        vertical-align: top;\n",
       "    }\n",
       "\n",
       "    .dataframe thead tr th {\n",
       "        text-align: left;\n",
       "    }\n",
       "\n",
       "    .dataframe thead tr:last-of-type th {\n",
       "        text-align: right;\n",
       "    }\n",
       "</style>\n",
       "<table border=\"1\" class=\"dataframe\">\n",
       "  <thead>\n",
       "    <tr>\n",
       "      <th>item</th>\n",
       "      <th colspan=\"6\" halign=\"left\">1</th>\n",
       "      <th>...</th>\n",
       "      <th colspan=\"6\" halign=\"left\">50</th>\n",
       "    </tr>\n",
       "    <tr>\n",
       "      <th>store</th>\n",
       "      <th>1</th>\n",
       "      <th>2</th>\n",
       "      <th>3</th>\n",
       "      <th>4</th>\n",
       "      <th>5</th>\n",
       "      <th>6</th>\n",
       "      <th>...</th>\n",
       "      <th>5</th>\n",
       "      <th>6</th>\n",
       "      <th>7</th>\n",
       "      <th>8</th>\n",
       "      <th>9</th>\n",
       "      <th>10</th>\n",
       "    </tr>\n",
       "    <tr>\n",
       "      <th>date</th>\n",
       "      <th></th>\n",
       "      <th></th>\n",
       "      <th></th>\n",
       "      <th></th>\n",
       "      <th></th>\n",
       "      <th></th>\n",
       "      <th></th>\n",
       "      <th></th>\n",
       "      <th></th>\n",
       "      <th></th>\n",
       "      <th></th>\n",
       "      <th></th>\n",
       "      <th></th>\n",
       "    </tr>\n",
       "  </thead>\n",
       "  <tbody>\n",
       "    <tr>\n",
       "      <th>2013-01-01</th>\n",
       "      <td>13</td>\n",
       "      <td>12</td>\n",
       "      <td>19</td>\n",
       "      <td>10</td>\n",
       "      <td>11</td>\n",
       "      <td>20</td>\n",
       "      <td>...</td>\n",
       "      <td>19</td>\n",
       "      <td>20</td>\n",
       "      <td>21</td>\n",
       "      <td>45</td>\n",
       "      <td>36</td>\n",
       "      <td>33</td>\n",
       "    </tr>\n",
       "    <tr>\n",
       "      <th>2013-01-02</th>\n",
       "      <td>11</td>\n",
       "      <td>16</td>\n",
       "      <td>8</td>\n",
       "      <td>12</td>\n",
       "      <td>9</td>\n",
       "      <td>6</td>\n",
       "      <td>...</td>\n",
       "      <td>25</td>\n",
       "      <td>23</td>\n",
       "      <td>30</td>\n",
       "      <td>54</td>\n",
       "      <td>44</td>\n",
       "      <td>37</td>\n",
       "    </tr>\n",
       "    <tr>\n",
       "      <th>2013-01-03</th>\n",
       "      <td>14</td>\n",
       "      <td>16</td>\n",
       "      <td>10</td>\n",
       "      <td>8</td>\n",
       "      <td>12</td>\n",
       "      <td>11</td>\n",
       "      <td>...</td>\n",
       "      <td>28</td>\n",
       "      <td>38</td>\n",
       "      <td>20</td>\n",
       "      <td>54</td>\n",
       "      <td>29</td>\n",
       "      <td>46</td>\n",
       "    </tr>\n",
       "    <tr>\n",
       "      <th>2013-01-04</th>\n",
       "      <td>13</td>\n",
       "      <td>20</td>\n",
       "      <td>15</td>\n",
       "      <td>15</td>\n",
       "      <td>8</td>\n",
       "      <td>7</td>\n",
       "      <td>...</td>\n",
       "      <td>27</td>\n",
       "      <td>33</td>\n",
       "      <td>27</td>\n",
       "      <td>52</td>\n",
       "      <td>43</td>\n",
       "      <td>51</td>\n",
       "    </tr>\n",
       "    <tr>\n",
       "      <th>2013-01-05</th>\n",
       "      <td>10</td>\n",
       "      <td>16</td>\n",
       "      <td>22</td>\n",
       "      <td>19</td>\n",
       "      <td>13</td>\n",
       "      <td>12</td>\n",
       "      <td>...</td>\n",
       "      <td>31</td>\n",
       "      <td>33</td>\n",
       "      <td>18</td>\n",
       "      <td>48</td>\n",
       "      <td>53</td>\n",
       "      <td>41</td>\n",
       "    </tr>\n",
       "  </tbody>\n",
       "</table>\n",
       "<p>5 rows × 500 columns</p>\n",
       "</div>"
      ],
      "text/plain": [
       "item        1                      ...  50                    \n",
       "store       1   2   3   4   5   6  ...  5   6   7   8   9   10\n",
       "date                               ...                        \n",
       "2013-01-01  13  12  19  10  11  20 ...  19  20  21  45  36  33\n",
       "2013-01-02  11  16   8  12   9   6 ...  25  23  30  54  44  37\n",
       "2013-01-03  14  16  10   8  12  11 ...  28  38  20  54  29  46\n",
       "2013-01-04  13  20  15  15   8   7 ...  27  33  27  52  43  51\n",
       "2013-01-05  10  16  22  19  13  12 ...  31  33  18  48  53  41\n",
       "\n",
       "[5 rows x 500 columns]"
      ]
     },
     "execution_count": 24,
     "metadata": {},
     "output_type": "execute_result"
    }
   ],
   "source": [
    "items_time_series = pd.pivot_table(\n",
    "    columns=['item','store'], values='sales',\n",
    "    index=store_item_data.index, data=store_item_data).asfreq('D')\n",
    "items_time_series.head()"
   ]
  },
  {
   "cell_type": "code",
   "execution_count": 25,
   "metadata": {
    "scrolled": true
   },
   "outputs": [
    {
     "name": "stdout",
     "output_type": "stream",
     "text": [
      "<statsmodels.tsa.vector_ar.var_model.LagOrderResults object. Selected orders are: AIC -> 13, BIC -> 6, FPE -> 13, HQIC -> 6>\n",
      "Using 13 based on aic criterion\n",
      "0.2043320424047193\n",
      "<statsmodels.tsa.vector_ar.var_model.LagOrderResults object. Selected orders are: AIC -> 15, BIC -> 6, FPE -> 15, HQIC -> 6>\n",
      "Using 15 based on aic criterion\n",
      "0.13445202689996147\n",
      "<statsmodels.tsa.vector_ar.var_model.LagOrderResults object. Selected orders are: AIC -> 13, BIC -> 6, FPE -> 13, HQIC -> 6>\n",
      "Using 13 based on aic criterion\n",
      "0.15741923536156543\n",
      "<statsmodels.tsa.vector_ar.var_model.LagOrderResults object. Selected orders are: AIC -> 13, BIC -> 6, FPE -> 13, HQIC -> 6>\n",
      "Using 13 based on aic criterion\n",
      "0.20120284034167052\n",
      "<statsmodels.tsa.vector_ar.var_model.LagOrderResults object. Selected orders are: AIC -> 14, BIC -> 6, FPE -> 14, HQIC -> 6>\n",
      "Using 14 based on aic criterion\n",
      "0.24970152598833356\n",
      "<statsmodels.tsa.vector_ar.var_model.LagOrderResults object. Selected orders are: AIC -> 13, BIC -> 6, FPE -> 13, HQIC -> 6>\n",
      "Using 13 based on aic criterion\n",
      "0.12942933421786357\n",
      "<statsmodels.tsa.vector_ar.var_model.LagOrderResults object. Selected orders are: AIC -> 13, BIC -> 6, FPE -> 13, HQIC -> 6>\n",
      "Using 13 based on aic criterion\n",
      "0.12863479551418702\n",
      "<statsmodels.tsa.vector_ar.var_model.LagOrderResults object. Selected orders are: AIC -> 13, BIC -> 6, FPE -> 13, HQIC -> 6>\n",
      "Using 13 based on aic criterion\n",
      "0.11866561463768463\n",
      "<statsmodels.tsa.vector_ar.var_model.LagOrderResults object. Selected orders are: AIC -> 13, BIC -> 6, FPE -> 13, HQIC -> 6>\n",
      "Using 13 based on aic criterion\n",
      "0.1376883394260311\n",
      "<statsmodels.tsa.vector_ar.var_model.LagOrderResults object. Selected orders are: AIC -> 14, BIC -> 6, FPE -> 14, HQIC -> 6>\n",
      "Using 14 based on aic criterion\n",
      "0.11284699217169543\n",
      "<statsmodels.tsa.vector_ar.var_model.LagOrderResults object. Selected orders are: AIC -> 14, BIC -> 6, FPE -> 14, HQIC -> 6>\n",
      "Using 14 based on aic criterion\n",
      "0.12012753168700632\n",
      "<statsmodels.tsa.vector_ar.var_model.LagOrderResults object. Selected orders are: AIC -> 13, BIC -> 6, FPE -> 13, HQIC -> 6>\n",
      "Using 13 based on aic criterion\n",
      "0.11787332996262459\n",
      "<statsmodels.tsa.vector_ar.var_model.LagOrderResults object. Selected orders are: AIC -> 13, BIC -> 6, FPE -> 13, HQIC -> 6>\n",
      "Using 13 based on aic criterion\n",
      "0.11491647120370825\n",
      "<statsmodels.tsa.vector_ar.var_model.LagOrderResults object. Selected orders are: AIC -> 13, BIC -> 6, FPE -> 13, HQIC -> 6>\n",
      "Using 13 based on aic criterion\n",
      "0.13187597914707128\n",
      "<statsmodels.tsa.vector_ar.var_model.LagOrderResults object. Selected orders are: AIC -> 13, BIC -> 6, FPE -> 13, HQIC -> 6>\n",
      "Using 13 based on aic criterion\n",
      "0.1079554425439\n",
      "<statsmodels.tsa.vector_ar.var_model.LagOrderResults object. Selected orders are: AIC -> 13, BIC -> 6, FPE -> 13, HQIC -> 6>\n",
      "Using 13 based on aic criterion\n",
      "0.19855118250488368\n",
      "<statsmodels.tsa.vector_ar.var_model.LagOrderResults object. Selected orders are: AIC -> 13, BIC -> 6, FPE -> 13, HQIC -> 6>\n",
      "Using 13 based on aic criterion\n",
      "0.1723317493868881\n",
      "<statsmodels.tsa.vector_ar.var_model.LagOrderResults object. Selected orders are: AIC -> 13, BIC -> 6, FPE -> 13, HQIC -> 6>\n",
      "Using 13 based on aic criterion\n",
      "0.11344391017057162\n",
      "<statsmodels.tsa.vector_ar.var_model.LagOrderResults object. Selected orders are: AIC -> 14, BIC -> 6, FPE -> 14, HQIC -> 6>\n",
      "Using 14 based on aic criterion\n",
      "0.15193098277727066\n",
      "<statsmodels.tsa.vector_ar.var_model.LagOrderResults object. Selected orders are: AIC -> 13, BIC -> 6, FPE -> 13, HQIC -> 6>\n",
      "Using 13 based on aic criterion\n",
      "0.14166204101891786\n",
      "<statsmodels.tsa.vector_ar.var_model.LagOrderResults object. Selected orders are: AIC -> 13, BIC -> 6, FPE -> 13, HQIC -> 6>\n",
      "Using 13 based on aic criterion\n",
      "0.16095980004545482\n",
      "<statsmodels.tsa.vector_ar.var_model.LagOrderResults object. Selected orders are: AIC -> 13, BIC -> 6, FPE -> 13, HQIC -> 6>\n",
      "Using 13 based on aic criterion\n",
      "0.11093603642335355\n",
      "<statsmodels.tsa.vector_ar.var_model.LagOrderResults object. Selected orders are: AIC -> 13, BIC -> 6, FPE -> 13, HQIC -> 6>\n",
      "Using 13 based on aic criterion\n",
      "0.1808236193490169\n",
      "<statsmodels.tsa.vector_ar.var_model.LagOrderResults object. Selected orders are: AIC -> 16, BIC -> 6, FPE -> 16, HQIC -> 6>\n",
      "Using 16 based on aic criterion\n",
      "0.12227766031454101\n",
      "<statsmodels.tsa.vector_ar.var_model.LagOrderResults object. Selected orders are: AIC -> 13, BIC -> 6, FPE -> 13, HQIC -> 6>\n",
      "Using 13 based on aic criterion\n",
      "0.10351964176964461\n",
      "<statsmodels.tsa.vector_ar.var_model.LagOrderResults object. Selected orders are: AIC -> 13, BIC -> 6, FPE -> 13, HQIC -> 6>\n",
      "Using 13 based on aic criterion\n",
      "0.14792959942507267\n",
      "<statsmodels.tsa.vector_ar.var_model.LagOrderResults object. Selected orders are: AIC -> 14, BIC -> 6, FPE -> 14, HQIC -> 6>\n",
      "Using 14 based on aic criterion\n",
      "0.20894285395589313\n",
      "<statsmodels.tsa.vector_ar.var_model.LagOrderResults object. Selected orders are: AIC -> 13, BIC -> 6, FPE -> 13, HQIC -> 7>\n",
      "Using 13 based on aic criterion\n",
      "0.1029443135882081\n",
      "<statsmodels.tsa.vector_ar.var_model.LagOrderResults object. Selected orders are: AIC -> 14, BIC -> 6, FPE -> 14, HQIC -> 6>\n",
      "Using 14 based on aic criterion\n",
      "0.12582718288542172\n",
      "<statsmodels.tsa.vector_ar.var_model.LagOrderResults object. Selected orders are: AIC -> 13, BIC -> 6, FPE -> 13, HQIC -> 6>\n",
      "Using 13 based on aic criterion\n",
      "0.15963237418646978\n",
      "<statsmodels.tsa.vector_ar.var_model.LagOrderResults object. Selected orders are: AIC -> 14, BIC -> 6, FPE -> 14, HQIC -> 6>\n",
      "Using 14 based on aic criterion\n",
      "0.13219985642766646\n",
      "<statsmodels.tsa.vector_ar.var_model.LagOrderResults object. Selected orders are: AIC -> 13, BIC -> 6, FPE -> 13, HQIC -> 6>\n",
      "Using 13 based on aic criterion\n",
      "0.15052725137817607\n",
      "<statsmodels.tsa.vector_ar.var_model.LagOrderResults object. Selected orders are: AIC -> 13, BIC -> 6, FPE -> 13, HQIC -> 6>\n",
      "Using 13 based on aic criterion\n",
      "0.12255504894529416\n",
      "<statsmodels.tsa.vector_ar.var_model.LagOrderResults object. Selected orders are: AIC -> 13, BIC -> 6, FPE -> 13, HQIC -> 6>\n",
      "Using 13 based on aic criterion\n",
      "0.19002541903165365\n",
      "<statsmodels.tsa.vector_ar.var_model.LagOrderResults object. Selected orders are: AIC -> 13, BIC -> 6, FPE -> 13, HQIC -> 6>\n",
      "Using 13 based on aic criterion\n",
      "0.12379437224104943\n",
      "<statsmodels.tsa.vector_ar.var_model.LagOrderResults object. Selected orders are: AIC -> 14, BIC -> 6, FPE -> 14, HQIC -> 6>\n",
      "Using 14 based on aic criterion\n",
      "0.11272356435197321\n",
      "<statsmodels.tsa.vector_ar.var_model.LagOrderResults object. Selected orders are: AIC -> 13, BIC -> 6, FPE -> 13, HQIC -> 6>\n",
      "Using 13 based on aic criterion\n",
      "0.1868260323414077\n",
      "<statsmodels.tsa.vector_ar.var_model.LagOrderResults object. Selected orders are: AIC -> 13, BIC -> 6, FPE -> 13, HQIC -> 6>\n",
      "Using 13 based on aic criterion\n",
      "0.11319047108255897\n",
      "<statsmodels.tsa.vector_ar.var_model.LagOrderResults object. Selected orders are: AIC -> 13, BIC -> 6, FPE -> 13, HQIC -> 6>\n",
      "Using 13 based on aic criterion\n",
      "0.15519510165703648\n",
      "<statsmodels.tsa.vector_ar.var_model.LagOrderResults object. Selected orders are: AIC -> 13, BIC -> 6, FPE -> 13, HQIC -> 6>\n",
      "Using 13 based on aic criterion\n",
      "0.1815004771798632\n",
      "<statsmodels.tsa.vector_ar.var_model.LagOrderResults object. Selected orders are: AIC -> 13, BIC -> 6, FPE -> 13, HQIC -> 6>\n",
      "Using 13 based on aic criterion\n",
      "0.2247066627129281\n",
      "<statsmodels.tsa.vector_ar.var_model.LagOrderResults object. Selected orders are: AIC -> 14, BIC -> 6, FPE -> 14, HQIC -> 6>\n",
      "Using 14 based on aic criterion\n",
      "0.16505144674459196\n",
      "<statsmodels.tsa.vector_ar.var_model.LagOrderResults object. Selected orders are: AIC -> 14, BIC -> 6, FPE -> 14, HQIC -> 6>\n",
      "Using 14 based on aic criterion\n",
      "0.1431511638352087\n",
      "<statsmodels.tsa.vector_ar.var_model.LagOrderResults object. Selected orders are: AIC -> 13, BIC -> 6, FPE -> 13, HQIC -> 6>\n",
      "Using 13 based on aic criterion\n",
      "0.17806507145740066\n",
      "<statsmodels.tsa.vector_ar.var_model.LagOrderResults object. Selected orders are: AIC -> 14, BIC -> 6, FPE -> 14, HQIC -> 6>\n",
      "Using 14 based on aic criterion\n",
      "0.11436285813577104\n",
      "<statsmodels.tsa.vector_ar.var_model.LagOrderResults object. Selected orders are: AIC -> 13, BIC -> 6, FPE -> 13, HQIC -> 6>\n",
      "Using 13 based on aic criterion\n",
      "0.12649667664699574\n",
      "<statsmodels.tsa.vector_ar.var_model.LagOrderResults object. Selected orders are: AIC -> 13, BIC -> 6, FPE -> 13, HQIC -> 6>\n",
      "Using 13 based on aic criterion\n",
      "0.21582488166098793\n"
     ]
    },
    {
     "name": "stdout",
     "output_type": "stream",
     "text": [
      "<statsmodels.tsa.vector_ar.var_model.LagOrderResults object. Selected orders are: AIC -> 14, BIC -> 6, FPE -> 14, HQIC -> 6>\n",
      "Using 14 based on aic criterion\n",
      "0.13822003310461012\n",
      "<statsmodels.tsa.vector_ar.var_model.LagOrderResults object. Selected orders are: AIC -> 13, BIC -> 6, FPE -> 13, HQIC -> 6>\n",
      "Using 13 based on aic criterion\n",
      "0.18572490790042442\n",
      "<statsmodels.tsa.vector_ar.var_model.LagOrderResults object. Selected orders are: AIC -> 13, BIC -> 6, FPE -> 13, HQIC -> 6>\n",
      "Using 13 based on aic criterion\n",
      "0.12751262851051898\n"
     ]
    }
   ],
   "source": [
    "all_items_smape = evaluate_multiple_var(items_time_series, number_of_items)"
   ]
  },
  {
   "cell_type": "code",
   "execution_count": 26,
   "metadata": {
    "scrolled": true
   },
   "outputs": [
    {
     "data": {
      "text/plain": [
       "<matplotlib.axes._subplots.AxesSubplot at 0x7f9ff097f908>"
      ]
     },
     "execution_count": 26,
     "metadata": {},
     "output_type": "execute_result"
    },
    {
     "data": {
      "image/png": "[encoded data removed]",
      "text/plain": [
       "<Figure size 432x288 with 1 Axes>"
      ]
     },
     "metadata": {},
     "output_type": "display_data"
    }
   ],
   "source": [
    "sns.distplot(all_items_smape)"
   ]
  },
  {
   "cell_type": "code",
   "execution_count": 27,
   "metadata": {},
   "outputs": [
    {
     "data": {
      "text/plain": [
       "DescribeResult(nobs=50, minmax=(0.1029443135882081, 0.24970152598833356), mean=0.14912976749311493, variance=0.0013015468133833437, skewness=0.8241553410554039, kurtosis=-0.1881847700143413)"
      ]
     },
     "execution_count": 27,
     "metadata": {},
     "output_type": "execute_result"
    }
   ],
   "source": [
    "describe(all_items_smape)"
   ]
  }
 ],
 "metadata": {
  "kernelspec": {
   "display_name": "Python 3",
   "language": "python",
   "name": "python3"
  },
  "language_info": {
   "codemirror_mode": {
    "name": "ipython",
    "version": 3
   },
   "file_extension": ".py",
   "mimetype": "text/x-python",
   "name": "python",
   "nbconvert_exporter": "python",
   "pygments_lexer": "ipython3",
   "version": "3.7.6"
  }
 },
 "nbformat": 4,
 "nbformat_minor": 2
}
